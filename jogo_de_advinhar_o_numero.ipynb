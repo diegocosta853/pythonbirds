{
  "nbformat": 4,
  "nbformat_minor": 0,
  "metadata": {
    "colab": {
      "name": "jogo de advinhar o numero.ipynb",
      "provenance": [],
      "authorship_tag": "ABX9TyO2ONrNBWem1nYd7eVybNr2",
      "include_colab_link": true
    },
    "kernelspec": {
      "name": "python3",
      "display_name": "Python 3"
    }
  },
  "cells": [
    {
      "cell_type": "markdown",
      "metadata": {
        "id": "view-in-github",
        "colab_type": "text"
      },
      "source": [
        "<a href=\"https://colab.research.google.com/github/diegocosta853/pythonbirds/blob/master/jogo_de_advinhar_o_numero.ipynb\" target=\"_parent\"><img src=\"https://colab.research.google.com/assets/colab-badge.svg\" alt=\"Open In Colab\"/></a>"
      ]
    },
    {
      "cell_type": "code",
      "metadata": {
        "id": "1G7EaF63wCDm"
      },
      "source": [
        "print(\"Bem vindo ao advinhe o número!\")\r\n",
        "from random import randint\r\n",
        "secret = randint(1, 100)\r\n",
        "n = int(input(\"Escolha um número de 1 a 100: \"))\r\n",
        "if n == secret:\r\n",
        "    print(\"Parabéns! Você ganhou\")\r\n",
        "count = 0\r\n",
        "while n != secret:\r\n",
        "    if n > secret:\r\n",
        "        print(\" Muito alto! \\n Tente novamente\")\r\n",
        "        print(\"\")\r\n",
        "        n = int(input(\"Escolha um número de 1 a 100: \"))\r\n",
        "    print(\"\")\r\n",
        "    if n < secret:\r\n",
        "        print(\" Muito baixo! \\n Tente novamente\")\r\n",
        "        print(\"\")\r\n",
        "        n = int(input(\"Escolha um número de 1 a 100: \"))\r\n",
        "    print(\"\")\r\n",
        "    if n == secret:\r\n",
        "        print(\" Parabéns! Você ganhou.\")\r\n",
        "        break\r\n",
        "    count += 1\r\n",
        "print(\" Fim de jogo!\")"
      ],
      "execution_count": null,
      "outputs": []
    }
  ]
}